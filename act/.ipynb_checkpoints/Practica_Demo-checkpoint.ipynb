{
 "cells": [
  {
   "cell_type": "code",
   "execution_count": 14,
   "id": "55365b22-4bd7-4bdb-ba4f-5e97be0c4cd5",
   "metadata": {},
   "outputs": [
    {
     "name": "stdout",
     "output_type": "stream",
     "text": [
      "X es igual a: -2.5333333333333337\n",
      "Y es igual a: 2.7777777777777777\n"
     ]
    }
   ],
   "source": [
    "import numpy as np\n",
    "import pandas as pd\n",
    "import math\n",
    "import numpy.linalg as linalg\n",
    "\n",
    "# Resolver sistemas de ecuaciones lineales\n",
    "\n",
    "a = np.array([[-5,3],[5,6]])\n",
    "b = np.array([21,4])\n",
    "#Permite resolver los sistemas de ecuaciones\n",
    "x,y = np.linalg.solve(a,b)\n",
    "\n",
    "print(f\"X es igual a: {x}\")\n",
    "print(f\"Y es igual a: {y}\")"
   ]
  },
  {
   "cell_type": "code",
   "execution_count": 15,
   "id": "264e6378-2243-441a-848a-ac4087318c02",
   "metadata": {},
   "outputs": [
    {
     "name": "stdout",
     "output_type": "stream",
     "text": [
      "[ 3  6  9  4 10  2  8  7 11]\n"
     ]
    }
   ],
   "source": [
    "arr = np.array([3, 6, 4, 9, 10, 7, 2, 8, 11])\n",
    "mult_3 = arr[arr % 3 == 0]\n",
    "mult_2 = arr[(arr % 2 == 0) & (arr % 3 != 0)]\n",
    "otros = arr[(arr % 3 != 0) & (arr % 2 != 0)]\n",
    "resultado = np.concatenate([mult_3, mult_2, otros])\n",
    "print(resultado)"
   ]
  },
  {
   "cell_type": "code",
   "execution_count": null,
   "id": "91045581-b58a-43d8-b1ca-150c480bbf2b",
   "metadata": {},
   "outputs": [],
   "source": []
  }
 ],
 "metadata": {
  "kernelspec": {
   "display_name": "Python 3 (ipykernel)",
   "language": "python",
   "name": "python3"
  },
  "language_info": {
   "codemirror_mode": {
    "name": "ipython",
    "version": 3
   },
   "file_extension": ".py",
   "mimetype": "text/x-python",
   "name": "python",
   "nbconvert_exporter": "python",
   "pygments_lexer": "ipython3",
   "version": "3.13.5"
  }
 },
 "nbformat": 4,
 "nbformat_minor": 5
}
