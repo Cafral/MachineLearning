{
 "cells": [
  {
   "attachments": {},
   "cell_type": "markdown",
   "id": "4ec4ea12-652c-4b86-8bec-fc014d8fbfd5",
   "metadata": {},
   "source": [
    "## Instalación de Anaconda\n",
    "<img src=\"Imagen/ITQ.png\" width=\"200\" height=\"300\"><br>\n",
    "### Manual de instalación de ambiente de trabajo.\n",
    "<br>\n",
    "<img src=\"Imagen/PYTHON.png\" width=\"300\" height=\"400\">\n",
    "<br>\n",
    "<p><strong>Nombre: </strong>Franco Alexander Cachago Gualli</p>\n",
    "<p><a href=\"ding-a-file-to-a-repository\">MANUAL SUBIDO A GITHUB</a></p>\n",
    "<h3>Introducción</h3>\n",
    "<p>Anaconda es una distribución de Python diseñada para ciencia de datos, aprendizaje automático e inteligencia artificial.</p><p>Jupyer notebook es una aplicación web de código abierto que permite crear y compartir documentos interactivos que contienen código ejecutable, texto enriquecido (como Markdown), ecuaciones, visualizaciones y otros elementos multimedia.</p>\n",
    "<p>Git es un sistema de control de versiones, que rastrea cambios en los archivos.</p>\n",
    "<p>GitHub nos permite almacenar, administrar, compartir y colaborar en proyectos de forma remota.</p>\n",
    "<h2>REQUISITOS PREVIOS</h2>\n",
    "<ul>\n",
    "    <li>Cuenta en GitHub</li>\n",
    "    <li>Conocimientos básicos en Python</li>\n",
    "</ul>\n",
    "<h2>INSTALACIÓN DEL AMBIENTE DE TRABAJO (ANACONDA, JUPYTER, GIT, GITHUB)</h2>\n",
    "<h3><strong>GIT Y GITHUB</strong></h3>\n",
    "<ul>\n",
    "    <li>Visitamos el sitio web de GIT</li>\n",
    "    <li>Descargamos la versión recomendada</li>\n",
    "    <li>Ejecutamos el instalador y damos a todo siguiente</li>\n",
    "    <li>Una vez realizada la instalación, en el terminal configuramos git: <br>\n",
    "        git config --global user.name \"TuNombre\"<br>\n",
    "        git config --global user.email \"tuemail@example.com\"</li>\n",
    "    <li>Si no tenemos cuenta GitHub la creamos y listo</li>\n",
    "</ul>\n",
    "<h3><strong>ANACONDA</strong></h3>\n",
    "<ul>\n",
    "    <li>Visitamos el sitio web de Anaconda</li>\n",
    "    <li>Seleccionamos nuestro sistema operativo y descargamos la versión recomendada</li>\n",
    "    <li>Una vez descargado, ejecutamos el instalador y damos a todo siguiente</li>\n",
    "    <li>Una vez realizada la instalación abrimos Anaconda</li>\n",
    "    <li>Creamos un nuevo entorno con cualquier nombre a elección</li>\n",
    "    <li>Una vez creado el entorno, instalamos JupyterLab y lo ejecutamos</li>\n",
    "    <li>Dentro de Jupyter, creamos carpetas, un nuevo notebook (.ipynb), etc. Guardamos lo realizado</li>\n",
    "    <li>Para subir al repositorio o actualizar los cambios en GitHub, ingresamos a una terminal dentro de Jupyter</li>\n",
    "    <li>Dentro de la terminal seguimos el paso a paso que nos da GitHub en su página oficial</li>\n",
    "    <li><a href=\"https://docs.github.com/es/repositories/working-with-files/managing-files/adding-a-file-to-a-repository\">DOCUMENTACIÓN DE GITHUB</a></li>\n",
    "</ul>\n"
   ]
  },
  {
   "cell_type": "code",
   "execution_count": null,
   "id": "22fb87e3-e69b-486d-9875-db07574da2a9",
   "metadata": {},
   "outputs": [],
   "source": []
  }
 ],
 "metadata": {
  "kernelspec": {
   "display_name": "Python 3 (ipykernel)",
   "language": "python",
   "name": "python3"
  },
  "language_info": {
   "codemirror_mode": {
    "name": "ipython",
    "version": 3
   },
   "file_extension": ".py",
   "mimetype": "text/x-python",
   "name": "python",
   "nbconvert_exporter": "python",
   "pygments_lexer": "ipython3",
   "version": "3.13.5"
  }
 },
 "nbformat": 4,
 "nbformat_minor": 5
}
