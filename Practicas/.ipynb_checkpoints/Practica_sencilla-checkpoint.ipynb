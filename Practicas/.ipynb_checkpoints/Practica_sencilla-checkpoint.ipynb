{
 "cells": [
  {
   "cell_type": "code",
   "execution_count": 1,
   "id": "76fa0e87-8b51-4c49-ac55-c2e09739f9dc",
   "metadata": {},
   "outputs": [
    {
     "name": "stdout",
     "output_type": "stream",
     "text": [
      "<class 'str'>\n",
      "<class 'int'>\n",
      "<class 'float'>\n",
      "<class 'bool'>\n",
      "<class 'list'>\n"
     ]
    }
   ],
   "source": [
    "# PRACTICAS PARA EXAMENES\n",
    "\n",
    "print(type(\"Hola\"))\n",
    "print(type(5))\n",
    "print(type(3.14))\n",
    "print(type(True))\n",
    "print(type([1,2]))"
   ]
  },
  {
   "cell_type": "code",
   "execution_count": 8,
   "id": "0034940e-a39b-4c2a-ac14-ee7cfcd2fe2b",
   "metadata": {},
   "outputs": [
    {
     "name": "stdin",
     "output_type": "stream",
     "text": [
      "Ingrese el primer número a sumar:  4\n",
      "Ingrese el segundo número a sumar:  8\n"
     ]
    },
    {
     "name": "stdout",
     "output_type": "stream",
     "text": [
      "<class 'int'>\n",
      "12\n"
     ]
    }
   ],
   "source": [
    "x = input(\"Ingrese el primer número a sumar: \")\n",
    "y = input(\"Ingrese el segundo número a sumar: \")\n",
    "\n",
    "num1 = int(x)\n",
    "num2 = int(y)\n",
    "\n",
    "suma = num1 + num2\n",
    "print(type(suma))\n",
    "print(suma)"
   ]
  },
  {
   "cell_type": "code",
   "execution_count": 11,
   "id": "fac8f687-d847-40ae-835c-2009e3fb0168",
   "metadata": {},
   "outputs": [
    {
     "name": "stdout",
     "output_type": "stream",
     "text": [
      "JUANA\n",
      "PEPE\n",
      "GONZALO\n",
      "MARIA\n",
      "LAURA\n",
      "LUCIA\n"
     ]
    }
   ],
   "source": [
    "nombres = [\"Juana\", \"Pepe\", \"Gonzalo\", \"Maria\", \"Laura\", \"Lucia\"]\n",
    "\n",
    "for nombre in nombres:\n",
    "    print(nombre.upper())"
   ]
  },
  {
   "cell_type": "code",
   "execution_count": 32,
   "id": "0fe307a7-9103-4884-926e-d6dd91b77b68",
   "metadata": {},
   "outputs": [
    {
     "name": "stdin",
     "output_type": "stream",
     "text": [
      "Ingrese el número a evaluar:  4\n"
     ]
    },
    {
     "name": "stdout",
     "output_type": "stream",
     "text": [
      "Su número 4 es positivo\n"
     ]
    }
   ],
   "source": [
    "x = input(\"Ingrese el número a evaluar: \")\n",
    "numero = int(x)\n",
    "if numero > 0:\n",
    "    numero = str(numero)\n",
    "    print(\"Su número \" + numero + \" es positivo\")\n",
    "else:\n",
    "    numero = str(numero)\n",
    "    print(\"Su número \" + numero + \" es negativo\")"
   ]
  },
  {
   "cell_type": "code",
   "execution_count": 23,
   "id": "fd8b51b5-1dd8-4a7f-95e1-c97f48928a85",
   "metadata": {},
   "outputs": [
    {
     "name": "stdout",
     "output_type": "stream",
     "text": [
      "Hola mundo desde un fichero.\n"
     ]
    }
   ],
   "source": [
    "with open(\"../res/one_line.txt\", \"r\") as leer:\n",
    "    print(leer.read())"
   ]
  },
  {
   "cell_type": "code",
   "execution_count": 29,
   "id": "14fcc569-7661-486b-9076-0d8e4bc273c3",
   "metadata": {},
   "outputs": [
    {
     "name": "stdout",
     "output_type": "stream",
     "text": [
      "0     Ana\n",
      "1    Luis\n",
      "Name: Nombre, dtype: object\n"
     ]
    }
   ],
   "source": [
    "import pandas as pd\n",
    "datos = pd.DataFrame({\"Nombre\": [\"Ana\", \"Luis\"], \"Edad\": [21, 23]})\n",
    "print(datos[\"Nombre\"])"
   ]
  },
  {
   "cell_type": "code",
   "execution_count": 31,
   "id": "bf65f2a1-b1bd-462d-9e3b-ff250f9fa748",
   "metadata": {},
   "outputs": [
    {
     "name": "stdout",
     "output_type": "stream",
     "text": [
      "[  0  10  20  30  40  50  60  70  80  90 100 110]\n"
     ]
    }
   ],
   "source": [
    "import numpy as np\n",
    "numeros = np.array(range(12))\n",
    "print(numeros * 10)"
   ]
  },
  {
   "cell_type": "code",
   "execution_count": 36,
   "id": "d261ce8c-095d-4d98-9477-ba512b950ca9",
   "metadata": {},
   "outputs": [
    {
     "name": "stdout",
     "output_type": "stream",
     "text": [
      "{1, 5, 8, 47, 85}\n"
     ]
    }
   ],
   "source": [
    "number = {1,5,47,85}\n",
    "number.add(8)\n",
    "print(number)"
   ]
  },
  {
   "cell_type": "code",
   "execution_count": 37,
   "id": "61c51753-1378-4ca1-a5fd-6693248c0b58",
   "metadata": {},
   "outputs": [
    {
     "name": "stdout",
     "output_type": "stream",
     "text": [
      "1\n",
      "2\n",
      "3\n",
      "4\n",
      "5\n"
     ]
    }
   ],
   "source": [
    "for number in range(1, 6):\n",
    "    print(number)"
   ]
  },
  {
   "cell_type": "code",
   "execution_count": null,
   "id": "268ab816-a2f5-43f0-a903-52e25ba8a268",
   "metadata": {},
   "outputs": [],
   "source": []
  }
 ],
 "metadata": {
  "kernelspec": {
   "display_name": "Python 3 (ipykernel)",
   "language": "python",
   "name": "python3"
  },
  "language_info": {
   "codemirror_mode": {
    "name": "ipython",
    "version": 3
   },
   "file_extension": ".py",
   "mimetype": "text/x-python",
   "name": "python",
   "nbconvert_exporter": "python",
   "pygments_lexer": "ipython3",
   "version": "3.13.5"
  }
 },
 "nbformat": 4,
 "nbformat_minor": 5
}
