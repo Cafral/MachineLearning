{
 "cells": [
  {
   "cell_type": "markdown",
   "id": "cc743d51-4f35-42e7-a790-c1c4e0dacc74",
   "metadata": {},
   "source": [
    "<img src=\"../Imagen/ITQ.png\" width=\"500\">\n",
    "\n",
    "<h1>EXAMEN PRACTICO PRIMER PARCIAL</h1>\n",
    "\n",
    "Análisis de rendimiento de estudiantes con validación de datos y control estructurado.\n",
    "\n",
    "<img src=\"../Imagen/PYTHON.png\" width=\"500\">\n",
    "<br>\n",
    "<br>\n",
    "<a href=\"https://github.com/Cafral/MachineLearning.git\">ENLACE A REPOSITORIO DE GITHUB</a>\n",
    "<br>\n",
    "<p>https://github.com/Cafral/MachineLearning.git</p>\n",
    "<br>\n",
    "<h4>Nombre: Franco Cachago</h4>\n",
    "<br>\n",
    "<br>\n",
    "<h3>Objetivos</h3>\n",
    "\n",
    "<p>Desarrollar un programa en Python que reciba un conjunto de registros de estudiantes (nombre y lista de notas), e implemente estructuras de control para:</p>\n",
    "<p>•\tValidar que las notas estén entre 0 y 10 (inclusive)</p>\n",
    "<p>•\tCalcular el promedio individual</p>\n",
    "<p>•\tClasificar al estudiante con base en el promedio usando match o if-elif</p>\n",
    "<p>•\tUsar control de errores (try/except) para gestionar entradas defectuosas</p>\n",
    "<p>•\tAl final, mostrar un resumen con:</p>\n",
    "<p>o\tLa cantidad de estudiantes aprobados, reprobados y con calificación excelente</p>\n",
    "<p>o\tEl estudiante con el promedio más alto</p>\n",
    "<p>o\tUna lista de estudiantes ordenados por calificación (usando list comprehension con condiciones)</p>\n",
    "<h3>Antecedentes/Escenario</h3>\n",
    "\n",
    "<p>En la programación real, los desarrolladores frecuentemente se enfrentan a la necesidad de validar y procesar datos provenientes de diversas fuentes. Una de las tareas comunes en aplicaciones académicas o administrativas es el manejo de registros de estudiantes, los cuales pueden incluir calificaciones, observaciones y clasificaciones. Estas tareas requieren no solo cálculos, sino también una adecuada estructuración del control del flujo del programa para gestionar condiciones, errores y decisiones lógicas.</p>\n",
    "<p>El lenguaje Python proporciona herramientas sólidas para el manejo de este tipo de escenarios a través de estructuras de control como sentencias condicionales (if, elif, else), bucles iterativos (for, while), control de flujo con break y continue, el uso del bloque try/except para el tratamiento de excepciones, así como expresiones compactas como las list comprehensions. Estas herramientas permiten construir programas robustos y eficientes para el análisis y manipulación de datos.</p>\n",
    "<p>Además, Python incorpora una estructura moderna como match-case, que permite implementar una lógica condicional similar al switch en otros lenguajes, haciendo el código más limpio y expresivo al clasificar o tomar decisiones según múltiples posibles valores.</p>\n",
    "<p>En este ejercicio práctico, se integran todas estas capacidades para desarrollar un sistema de clasificación de estudiantes basado en sus calificaciones. El objetivo es aplicar de forma conjunta los conocimientos sobre estructuras de control, manejo de errores y procesamiento de datos, abordando problemas típicos de entrada, validación, clasificación y salida de resultados. Esta actividad representa un caso aplicado de desarrollo lógico secuencial con validación de datos, ideal para consolidar los conocimientos adquiridos en la unidad sobre estructuras de control.</p>\n",
    "\n",
    "Desarrollo\n",
    "<br>\n",
    "<p>El programa solicitará datos hasta que se ingrese \"FIN\" como nombre del estudiante.</p>\n",
    "<p>•\tPor cada estudiante se ingresarán varias notas separadas por coma. Si alguna nota no es numérica o no está en el rango, se mostrará un mensaje y se omite ese estudiante.</p>\n",
    "<p>•\t La clasificación de desempeño será:</p>\n",
    "<p>o\t\"Excelente\" si el promedio es mayor o igual a 9</p>\n",
    "<p>o\t\"Aprobado\" si el promedio está entre 6 y 8.99</p>\n",
    "<p>o\t\"Reprobado\" si el promedio es menor a 6</p>"
   ]
  },
  {
   "cell_type": "code",
   "execution_count": 13,
   "id": "fa8c00bc-546a-416f-9618-933801d64ae6",
   "metadata": {},
   "outputs": [
    {
     "name": "stdin",
     "output_type": "stream",
     "text": [
      "Ingrese el nombre del estudiante(FIN para finalizar):  Franco\n",
      "Ingrese las notas separadas por coma: (LIMITE 10) 10,9,5,8,4,9,9,10\n"
     ]
    },
    {
     "name": "stdout",
     "output_type": "stream",
     "text": [
      "Estudiantes aprobados: 1\n",
      "Estudiantes reprobados: 0\n",
      "Estudiantes excelentes: 0\n",
      "MEJOR ESTUDIANTE: Franco con promedio de: 8.0\n",
      "Estudiantes ordenados por promedio mayor o igual a 6):\n",
      "Franco - Promedio: 8.0 - Aprobado\n"
     ]
    },
    {
     "name": "stdin",
     "output_type": "stream",
     "text": [
      "Ingrese el nombre del estudiante(FIN para finalizar):  German\n",
      "Ingrese las notas separadas por coma: (LIMITE 10) 9,8,9,9,9.80,10,9.90\n"
     ]
    },
    {
     "name": "stdout",
     "output_type": "stream",
     "text": [
      "Estudiantes aprobados: 1\n",
      "Estudiantes reprobados: 0\n",
      "Estudiantes excelentes: 1\n",
      "MEJOR ESTUDIANTE: German con promedio de: 9.242857142857144\n",
      "Estudiantes ordenados por promedio mayor o igual a 6):\n",
      "German - Promedio: 9.242857142857144 - Excelente\n",
      "Franco - Promedio: 8.0 - Aprobado\n"
     ]
    },
    {
     "name": "stdin",
     "output_type": "stream",
     "text": [
      "Ingrese el nombre del estudiante(FIN para finalizar):  10.1\n",
      "Ingrese las notas separadas por coma: (LIMITE 10) 10.1\n"
     ]
    },
    {
     "name": "stdout",
     "output_type": "stream",
     "text": [
      "Error, las notas no se encuentran en el rango de 0 a 10. Estudiante omitido\n"
     ]
    },
    {
     "name": "stdin",
     "output_type": "stream",
     "text": [
      "Ingrese el nombre del estudiante(FIN para finalizar):  Jonny\n",
      "Ingrese las notas separadas por coma: (LIMITE 10) 5,4,2,1,3,1,1,2\n"
     ]
    },
    {
     "name": "stdout",
     "output_type": "stream",
     "text": [
      "Estudiantes aprobados: 1\n",
      "Estudiantes reprobados: 1\n",
      "Estudiantes excelentes: 1\n",
      "MEJOR ESTUDIANTE: German con promedio de: 9.242857142857144\n",
      "Estudiantes ordenados por promedio mayor o igual a 6):\n",
      "German - Promedio: 9.242857142857144 - Excelente\n",
      "Franco - Promedio: 8.0 - Aprobado\n"
     ]
    },
    {
     "name": "stdin",
     "output_type": "stream",
     "text": [
      "Ingrese el nombre del estudiante(FIN para finalizar):  FIN\n"
     ]
    }
   ],
   "source": [
    "estudiantes = []\n",
    "\n",
    "# Contadores para las clasificaciones\n",
    "excelentes = 0\n",
    "aprobados = 0\n",
    "reprobados = 0\n",
    "\n",
    "# Variables para guardar al mejor estudiante\n",
    "mejor_estudiante = None\n",
    "mejor_promedio = -1\n",
    "\n",
    "nombres = True\n",
    "\n",
    "while nombres:\n",
    "    nombre = input(\"Ingrese el nombre del estudiante(FIN para finalizar): \")\n",
    "\n",
    "     # Si el usuario escribe \"FIN\", termina el ingreso\n",
    "    if nombre.upper() == \"FIN\":\n",
    "        break\n",
    "\n",
    "    # Solicita las notas como una cadena separada por comas\n",
    "    notasStr = input(\"Ingrese las notas separadas por coma: (LIMITE 10)\")\n",
    "\n",
    "    try:\n",
    "        # Convierte la cadena en una lista de números float, eliminando espacios\n",
    "        notas = [float(nota.strip()) for nota in notasStr.split(\",\")]\n",
    "         # Verifica que todas las notas estén en el rango 0-10\n",
    "        if not all(0 <= nota <= 10 for nota in notas):\n",
    "            print(\"Error, las notas no se encuentran en el rango de 0 a 10. Estudiante omitido\")\n",
    "            continue\n",
    "\n",
    "    # Captura errores si el usuario ingresa texto no convertible a número\n",
    "    except ValueError:\n",
    "        print(\"Error, debe ingresar unicamente valores númericos. Estudiante omitido\")\n",
    "        continue\n",
    "\n",
    "    # Calcula el promedio del estudiante\n",
    "    promedio = sum(notas) / len(notas)\n",
    "\n",
    "    # Clasificación del estudiante según su promedio\n",
    "    if promedio >= 9:\n",
    "        clasificacion = \"Excelente\"\n",
    "        excelentes += 1\n",
    "    elif 6 <= promedio <=8.99:\n",
    "        clasificacion = \"Aprobado\"\n",
    "        aprobados += 1\n",
    "    else:\n",
    "        clasificacion = \"Reprobado\"\n",
    "        reprobados += 1\n",
    "\n",
    "    # Guarda los datos del estudiante en la lista principal\n",
    "    estudiantes.append({\n",
    "        \"nombre\": nombre,\n",
    "        \"promedio\": promedio,\n",
    "        \"clasificacion\": clasificacion\n",
    "    })\n",
    "\n",
    "    if promedio > mejor_promedio:\n",
    "        mejor_promedio = promedio\n",
    "        mejor_estudiante = nombre\n",
    "\n",
    "    #SALIDA EN PANTALLA DE RESUMEN\n",
    "    print(f\"Estudiantes aprobados: {aprobados}\")\n",
    "    print(f\"Estudiantes reprobados: {reprobados}\")\n",
    "    print(f\"Estudiantes excelentes: {excelentes}\")\n",
    "\n",
    "    # Si existe el mejor estudiante lo muestra\n",
    "    if mejor_estudiante:\n",
    "        print(f\"MEJOR ESTUDIANTE: {mejor_estudiante} con promedio de: {mejor_promedio}\")\n",
    "\n",
    "    # Ordena a los estudiantes con promedio >= 6, de mayor a menor promedio\n",
    "    estudiantes_ordenados = sorted(\n",
    "        [e for e in estudiantes if e[\"promedio\"] >= 6], \n",
    "        key=lambda x: x[\"promedio\"], \n",
    "        reverse=True\n",
    "    )\n",
    "\n",
    "    print(\"Estudiantes ordenados por promedio mayor o igual a 6):\")\n",
    "    for students in estudiantes_ordenados:\n",
    "        print(f\"{students['nombre']} - Promedio: {students['promedio']} - {students['clasificacion']}\")"
   ]
  },
  {
   "cell_type": "code",
   "execution_count": null,
   "id": "7e6ad907-f06a-4cc1-9f69-5a6670740da7",
   "metadata": {},
   "outputs": [],
   "source": []
  }
 ],
 "metadata": {
  "kernelspec": {
   "display_name": "Python 3 (ipykernel)",
   "language": "python",
   "name": "python3"
  },
  "language_info": {
   "codemirror_mode": {
    "name": "ipython",
    "version": 3
   },
   "file_extension": ".py",
   "mimetype": "text/x-python",
   "name": "python",
   "nbconvert_exporter": "python",
   "pygments_lexer": "ipython3",
   "version": "3.13.5"
  }
 },
 "nbformat": 4,
 "nbformat_minor": 5
}
